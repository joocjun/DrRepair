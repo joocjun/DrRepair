{
 "cells": [
  {
   "cell_type": "code",
   "execution_count": 1,
   "metadata": {},
   "outputs": [],
   "source": [
    "import json \n",
    "with open('/home/sejune/DrRepair/data/err-data-compiler--auto-corrupt--codeforce--deepfix-style/8A/34218.json') as f:\n",
    "    data = json.load(f)"
   ]
  },
  {
   "cell_type": "code",
   "execution_count": 43,
   "metadata": {},
   "outputs": [
    {
     "data": {
      "text/plain": [
       "[{'mod_line': [4, 10, 13, 14],\n",
       "  'mod_code': ['int len , i , len , ans = 0 ;',\n",
       "   'for ( double p1 ; i < len ; ++ i ) r [ i ] = g [ len - 1 - i ] ;',\n",
       "   'if ( p2 = strstr ( p1 + strlen ( a ) , ) ) ans += 1 ; }',\n",
       "   'if ( ( p1 = strstr ( r , a ) ) )'],\n",
       "  'mod_code_anonymized': ['int len , i , len , ans = _<number>_ ;',\n",
       "   'for ( double p1 ; i < len ; ++ i ) r [ i ] = g [ len - _<number>_ - i ] ;',\n",
       "   'if ( p2 = strstr ( p1 + strlen ( a ) , ) ) ans += _<number>_ ; }',\n",
       "   'if ( ( p1 = strstr ( r , a ) ) )'],\n",
       "  'mod_code_anonymize_dict': [{'number': ['0']},\n",
       "   {'number': ['1']},\n",
       "   {'number': ['1']},\n",
       "   {}],\n",
       "  'err_line': 4,\n",
       "  'err_msg': 'redefinition of ‘int len’',\n",
       "  'action_name_list': {'4': ['insert var (in decl)', 'insert var (in decl)'],\n",
       "   '10': ['replace var (in decl)', 'replace type'],\n",
       "   '14': ['delete{'],\n",
       "   '13': ['delete var (not decl)']}},\n",
       " {'mod_line': [10, 13, 14],\n",
       "  'mod_code': ['for ( double p1 ; i < len ; ++ i ) r [ i ] = g [ len - 1 - i ] ;',\n",
       "   'if ( p2 = strstr ( p1 + strlen ( a ) , ) ) ans += 1 ; }',\n",
       "   'if ( ( p1 = strstr ( r , a ) ) )'],\n",
       "  'mod_code_anonymized': ['for ( double p1 ; i < len ; ++ i ) r [ i ] = g [ len - _<number>_ - i ] ;',\n",
       "   'if ( p2 = strstr ( p1 + strlen ( a ) , ) ) ans += _<number>_ ; }',\n",
       "   'if ( ( p1 = strstr ( r , a ) ) )'],\n",
       "  'mod_code_anonymize_dict': [{'number': ['1']}, {'number': ['1']}, {}],\n",
       "  'err_line': 10,\n",
       "  'err_msg': '‘i’ was not declared in this scope',\n",
       "  'action_name_list': {'10': ['replace var (in decl)', 'replace type'],\n",
       "   '14': ['delete{'],\n",
       "   '13': ['delete var (not decl)']}},\n",
       " {'mod_line': [13, 14],\n",
       "  'mod_code': ['if ( p2 = strstr ( p1 + strlen ( a ) , ) ) ans += 1 ; }',\n",
       "   'if ( ( p1 = strstr ( r , a ) ) )'],\n",
       "  'mod_code_anonymized': ['if ( p2 = strstr ( p1 + strlen ( a ) , ) ) ans += _<number>_ ; }',\n",
       "   'if ( ( p1 = strstr ( r , a ) ) )'],\n",
       "  'mod_code_anonymize_dict': [{'number': ['1']}, {}],\n",
       "  'err_line': 13,\n",
       "  'err_msg': 'expected primary-expression before ‘)’ token',\n",
       "  'action_name_list': {'14': ['delete{'], '13': ['delete var (not decl)']}},\n",
       " {'mod_line': [14],\n",
       "  'mod_code': ['if ( ( p1 = strstr ( r , a ) ) )'],\n",
       "  'mod_code_anonymized': ['if ( ( p1 = strstr ( r , a ) ) )'],\n",
       "  'mod_code_anonymize_dict': [{}],\n",
       "  'err_line': 16,\n",
       "  'err_msg': 'expected unqualified-id before ‘if’',\n",
       "  'action_name_list': {'14': ['delete{']}},\n",
       " {'mod_line': [4, 9, 10, 17],\n",
       "  'mod_code': ['int len ; ans = 0 ;',\n",
       "   'len = strlen ( g ) ) ;',\n",
       "   'for ( int i = 0 ; i < len ; ++ i ) r [ i ] = g [ len - 1 - i ] .',\n",
       "   'if ( r == 1 ) puts ( \" forward \" ) ;'],\n",
       "  'mod_code_anonymized': ['int len ; ans = _<number>_ ;',\n",
       "   'len = strlen ( g ) ) ;',\n",
       "   'for ( int i = _<number>_ ; i < len ; ++ i ) r [ i ] = g [ len - _<number>_ - i ] .',\n",
       "   'if ( r == _<number>_ ) puts ( _<string>_ ) ;'],\n",
       "  'mod_code_anonymize_dict': [{'number': ['0']},\n",
       "   {},\n",
       "   {'number': ['0', '1']},\n",
       "   {'number': ['1'], 'string': ['\" forward \"']}],\n",
       "  'err_line': 4,\n",
       "  'err_msg': '‘ans’ does not name a type',\n",
       "  'action_name_list': {'17': ['replace var (not decl)',\n",
       "    'replace var (not decl)'],\n",
       "   '4': ['replace,with;'],\n",
       "   '10': ['replace;with.'],\n",
       "   '9': ['duplicate)']}},\n",
       " {'mod_line': [9, 10, 17],\n",
       "  'mod_code': ['len = strlen ( g ) ) ;',\n",
       "   'for ( int i = 0 ; i < len ; ++ i ) r [ i ] = g [ len - 1 - i ] .',\n",
       "   'if ( r == 1 ) puts ( \" forward \" ) ;'],\n",
       "  'mod_code_anonymized': ['len = strlen ( g ) ) ;',\n",
       "   'for ( int i = _<number>_ ; i < len ; ++ i ) r [ i ] = g [ len - _<number>_ - i ] .',\n",
       "   'if ( r == _<number>_ ) puts ( _<string>_ ) ;'],\n",
       "  'mod_code_anonymize_dict': [{},\n",
       "   {'number': ['0', '1']},\n",
       "   {'number': ['1'], 'string': ['\" forward \"']}],\n",
       "  'err_line': 9,\n",
       "  'err_msg': 'expected ‘;’ before ‘)’ token',\n",
       "  'action_name_list': {'17': ['replace var (not decl)',\n",
       "    'replace var (not decl)'],\n",
       "   '10': ['replace;with.'],\n",
       "   '9': ['duplicate)']}},\n",
       " {'mod_line': [10, 17],\n",
       "  'mod_code': ['for ( int i = 0 ; i < len ; ++ i ) r [ i ] = g [ len - 1 - i ] .',\n",
       "   'if ( r == 1 ) puts ( \" forward \" ) ;'],\n",
       "  'mod_code_anonymized': ['for ( int i = _<number>_ ; i < len ; ++ i ) r [ i ] = g [ len - _<number>_ - i ] .',\n",
       "   'if ( r == _<number>_ ) puts ( _<string>_ ) ;'],\n",
       "  'mod_code_anonymize_dict': [{'number': ['0', '1']},\n",
       "   {'number': ['1'], 'string': ['\" forward \"']}],\n",
       "  'err_line': 11,\n",
       "  'err_msg': 'request for member ‘r’ in ‘g[((len + -1) - i)]’, which is of non-class type ‘char’',\n",
       "  'action_name_list': {'17': ['replace var (not decl)',\n",
       "    'replace var (not decl)'],\n",
       "   '10': ['replace;with.']}},\n",
       " {'mod_line': [17],\n",
       "  'mod_code': ['if ( r == 1 ) puts ( \" forward \" ) ;'],\n",
       "  'mod_code_anonymized': ['if ( r == _<number>_ ) puts ( _<string>_ ) ;'],\n",
       "  'mod_code_anonymize_dict': [{'number': ['1'], 'string': ['\" forward \"']}],\n",
       "  'err_line': 17,\n",
       "  'err_msg': 'ISO C++ forbids comparison between pointer and integer [-fpermissive]',\n",
       "  'action_name_list': {'17': ['replace var (not decl)',\n",
       "    'replace var (not decl)']}},\n",
       " {'mod_line': [4, 10],\n",
       "  'mod_code': ['long len , ans = 0 ;',\n",
       "   'for ( int i = 0 ; i < len ; ++ i ) r [ i = g [ len - 1 - i ] ;'],\n",
       "  'mod_code_anonymized': ['long len , ans = _<number>_ ;',\n",
       "   'for ( int i = _<number>_ ; i < len ; ++ i ) r [ i = g [ len - _<number>_ - i ] ;'],\n",
       "  'mod_code_anonymize_dict': [{'number': ['0']}, {'number': ['0', '1']}],\n",
       "  'err_line': 10,\n",
       "  'err_msg': 'expected ‘]’ before ‘;’ token',\n",
       "  'action_name_list': {'10': ['delete]'], '4': ['replace type']}},\n",
       " {'mod_line': [10],\n",
       "  'mod_code': ['for ( int i = 0 ; i < len ; ++ i ) r [ i = g [ len - 1 - i ] ;'],\n",
       "  'mod_code_anonymized': ['for ( int i = _<number>_ ; i < len ; ++ i ) r [ i = g [ len - _<number>_ - i ] ;'],\n",
       "  'mod_code_anonymize_dict': [{'number': ['0', '1']}],\n",
       "  'err_line': 10,\n",
       "  'err_msg': 'expected ‘]’ before ‘;’ token',\n",
       "  'action_name_list': {'10': ['delete]']}},\n",
       " {'mod_line': [7],\n",
       "  'mod_code': ['gets ( a ;'],\n",
       "  'mod_code_anonymized': ['gets ( a ;'],\n",
       "  'mod_code_anonymize_dict': [{}],\n",
       "  'err_line': 7,\n",
       "  'err_msg': 'expected ‘)’ before ‘;’ token',\n",
       "  'action_name_list': {'7': ['delete)']}},\n",
       " {'mod_line': [9, 13, 14, 18],\n",
       "  'mod_code': ['len = strlen ( * len ) ;',\n",
       "   'if ( int p2 = strstr ( p1 + strlen ( a ) , b ) ) ans += 1 ; }',\n",
       "   'if ( ( p1 = strstr ( r , ) ) ) {',\n",
       "   'if ( p1 == 2 ) puts ( \" backward \" ) ;'],\n",
       "  'mod_code_anonymized': ['len = strlen ( * len ) ;',\n",
       "   'if ( int p2 = strstr ( p1 + strlen ( a ) , b ) ) ans += _<number>_ ; }',\n",
       "   'if ( ( p1 = strstr ( r , ) ) ) {',\n",
       "   'if ( p1 == _<number>_ ) puts ( _<string>_ ) ;'],\n",
       "  'mod_code_anonymize_dict': [{},\n",
       "   {'number': ['1']},\n",
       "   {},\n",
       "   {'number': ['2'], 'string': ['\" backward \"']}],\n",
       "  'err_line': 9,\n",
       "  'err_msg': 'invalid type argument of unary ‘*’ (have ‘int’)',\n",
       "  'action_name_list': {'13': ['add type'],\n",
       "   '18': ['replace var (not decl)'],\n",
       "   '14': ['delete var (not decl)'],\n",
       "   '9': ['replace var (not decl)']}},\n",
       " {'mod_line': [13, 14, 18],\n",
       "  'mod_code': ['if ( int p2 = strstr ( p1 + strlen ( a ) , b ) ) ans += 1 ; }',\n",
       "   'if ( ( p1 = strstr ( r , ) ) ) {',\n",
       "   'if ( p1 == 2 ) puts ( \" backward \" ) ;'],\n",
       "  'mod_code_anonymized': ['if ( int p2 = strstr ( p1 + strlen ( a ) , b ) ) ans += _<number>_ ; }',\n",
       "   'if ( ( p1 = strstr ( r , ) ) ) {',\n",
       "   'if ( p1 == _<number>_ ) puts ( _<string>_ ) ;'],\n",
       "  'mod_code_anonymize_dict': [{'number': ['1']},\n",
       "   {},\n",
       "   {'number': ['2'], 'string': ['\" backward \"']}],\n",
       "  'err_line': 13,\n",
       "  'err_msg': 'invalid conversion from ‘char*’ to ‘int’ [-fpermissive]',\n",
       "  'action_name_list': {'13': ['add type'],\n",
       "   '18': ['replace var (not decl)'],\n",
       "   '14': ['delete var (not decl)']}},\n",
       " {'mod_line': [14, 18],\n",
       "  'mod_code': ['if ( ( p1 = strstr ( r , ) ) ) {',\n",
       "   'if ( p1 == 2 ) puts ( \" backward \" ) ;'],\n",
       "  'mod_code_anonymized': ['if ( ( p1 = strstr ( r , ) ) ) {',\n",
       "   'if ( p1 == _<number>_ ) puts ( _<string>_ ) ;'],\n",
       "  'mod_code_anonymize_dict': [{},\n",
       "   {'number': ['2'], 'string': ['\" backward \"']}],\n",
       "  'err_line': 14,\n",
       "  'err_msg': 'expected primary-expression before ‘)’ token',\n",
       "  'action_name_list': {'18': ['replace var (not decl)'],\n",
       "   '14': ['delete var (not decl)']}},\n",
       " {'mod_line': [18],\n",
       "  'mod_code': ['if ( p1 == 2 ) puts ( \" backward \" ) ;'],\n",
       "  'mod_code_anonymized': ['if ( p1 == _<number>_ ) puts ( _<string>_ ) ;'],\n",
       "  'mod_code_anonymize_dict': [{'number': ['2'], 'string': ['\" backward \"']}],\n",
       "  'err_line': 18,\n",
       "  'err_msg': 'ISO C++ forbids comparison between pointer and integer [-fpermissive]',\n",
       "  'action_name_list': {'18': ['replace var (not decl)']}},\n",
       " {'mod_line': [13],\n",
       "  'mod_code': ['if ( p2 = strstr ( p1 + strlen ( a ) , b ) ) ans += 1 ;'],\n",
       "  'mod_code_anonymized': ['if ( p2 = strstr ( p1 + strlen ( a ) , b ) ) ans += _<number>_ ;'],\n",
       "  'mod_code_anonymize_dict': [{'number': ['1']}],\n",
       "  'err_line': 20,\n",
       "  'err_msg': 'expected ‘}’ at end of input',\n",
       "  'action_name_list': {'13': ['delete}']}},\n",
       " {'mod_line': [10],\n",
       "  'mod_code': ['for ( int ; i < len ; ++ i ) r [ i ] = g [ len - 1 - i ] ;'],\n",
       "  'mod_code_anonymized': ['for ( int ; i < len ; ++ i ) r [ i ] = g [ len - _<number>_ - i ] ;'],\n",
       "  'mod_code_anonymize_dict': [{'number': ['1']}],\n",
       "  'err_line': 10,\n",
       "  'err_msg': 'declaration does not declare anything [-fpermissive]',\n",
       "  'action_name_list': {'10': ['delete var (in decl)']}},\n",
       " {'mod_line': [3, 4, 7, 13],\n",
       "  'mod_code': ['g [ 100005 ] , a [ 100005 ] , b [ 100005 ] , r [ 100005 ] , * p1 , * p2 ;',\n",
       "   'int len , p2 , ans = 0 ;',\n",
       "   'gets ( a ) ) ;',\n",
       "   'if ( p2 = strstr ( p1 + strlen ( a ) , b ) ) ans += 1 ; } }'],\n",
       "  'mod_code_anonymized': ['g [ _<number>_ ] , a [ _<number>_ ] , b [ _<number>_ ] , r [ _<number>_ ] , * p1 , * p2 ;',\n",
       "   'int len , p2 , ans = _<number>_ ;',\n",
       "   'gets ( a ) ) ;',\n",
       "   'if ( p2 = strstr ( p1 + strlen ( a ) , b ) ) ans += _<number>_ ; } }'],\n",
       "  'mod_code_anonymize_dict': [{'number': ['100005',\n",
       "     '100005',\n",
       "     '100005',\n",
       "     '100005']},\n",
       "   {'number': ['0']},\n",
       "   {},\n",
       "   {'number': ['1']}],\n",
       "  'err_line': 3,\n",
       "  'err_msg': '‘g’ does not name a type',\n",
       "  'action_name_list': {'13': ['duplicate}'],\n",
       "   '4': ['insert var (in decl)'],\n",
       "   '3': ['delete type'],\n",
       "   '7': ['duplicate)']}},\n",
       " {'mod_line': [4, 7, 13],\n",
       "  'mod_code': ['int len , p2 , ans = 0 ;',\n",
       "   'gets ( a ) ) ;',\n",
       "   'if ( p2 = strstr ( p1 + strlen ( a ) , b ) ) ans += 1 ; } }'],\n",
       "  'mod_code_anonymized': ['int len , p2 , ans = _<number>_ ;',\n",
       "   'gets ( a ) ) ;',\n",
       "   'if ( p2 = strstr ( p1 + strlen ( a ) , b ) ) ans += _<number>_ ; } }'],\n",
       "  'mod_code_anonymize_dict': [{'number': ['0']}, {}, {'number': ['1']}],\n",
       "  'err_line': 4,\n",
       "  'err_msg': 'conflicting declaration ‘int p2’',\n",
       "  'action_name_list': {'13': ['duplicate}'],\n",
       "   '4': ['insert var (in decl)'],\n",
       "   '7': ['duplicate)']}},\n",
       " {'mod_line': [7, 13],\n",
       "  'mod_code': ['gets ( a ) ) ;',\n",
       "   'if ( p2 = strstr ( p1 + strlen ( a ) , b ) ) ans += 1 ; } }'],\n",
       "  'mod_code_anonymized': ['gets ( a ) ) ;',\n",
       "   'if ( p2 = strstr ( p1 + strlen ( a ) , b ) ) ans += _<number>_ ; } }'],\n",
       "  'mod_code_anonymize_dict': [{}, {'number': ['1']}],\n",
       "  'err_line': 7,\n",
       "  'err_msg': 'expected ‘;’ before ‘)’ token',\n",
       "  'action_name_list': {'13': ['duplicate}'], '7': ['duplicate)']}},\n",
       " {'mod_line': [13],\n",
       "  'mod_code': ['if ( p2 = strstr ( p1 + strlen ( a ) , b ) ) ans += 1 ; } }'],\n",
       "  'mod_code_anonymized': ['if ( p2 = strstr ( p1 + strlen ( a ) , b ) ) ans += _<number>_ ; } }'],\n",
       "  'mod_code_anonymize_dict': [{'number': ['1']}],\n",
       "  'err_line': 14,\n",
       "  'err_msg': 'expected unqualified-id before ‘if’',\n",
       "  'action_name_list': {'13': ['duplicate}']}},\n",
       " {'mod_line': [3, 8, 10, 11, 14],\n",
       "  'mod_code': ['long g [ 100005 ] , a [ 100005 ] , b [ 100005 ] , r [ 100005 ] , * p1 , * p2 ;',\n",
       "   'gets ( b ) ) ;',\n",
       "   'for ( int ans ; i < len ; ++ i ) r [ i ] = g [ len - 1 - i ] ;',\n",
       "   \"[ len ] = ' \\\\0 ' ;\",\n",
       "   'if ( ( = strstr ( r , a ) ) ) {'],\n",
       "  'mod_code_anonymized': ['long g [ _<number>_ ] , a [ _<number>_ ] , b [ _<number>_ ] , r [ _<number>_ ] , * p1 , * p2 ;',\n",
       "   'gets ( b ) ) ;',\n",
       "   'for ( int ans ; i < len ; ++ i ) r [ i ] = g [ len - _<number>_ - i ] ;',\n",
       "   '[ len ] = _<char>_ ;',\n",
       "   'if ( ( = strstr ( r , a ) ) ) {'],\n",
       "  'mod_code_anonymize_dict': [{'number': ['100005',\n",
       "     '100005',\n",
       "     '100005',\n",
       "     '100005']},\n",
       "   {},\n",
       "   {'number': ['1']},\n",
       "   {'char': [\"'\\\\0'\"]},\n",
       "   {}],\n",
       "  'err_line': 6,\n",
       "  'err_msg': 'cannot convert ‘long int*’ to ‘char*’ for argument ‘1’ to ‘char* gets(char*)’',\n",
       "  'action_name_list': {'8': ['duplicate)'],\n",
       "   '14': ['delete var (not decl)'],\n",
       "   '3': ['replace type'],\n",
       "   '11': ['delete var (not decl)'],\n",
       "   '10': ['replace var (in decl)']}},\n",
       " {'mod_line': [8, 10, 11, 14],\n",
       "  'mod_code': ['gets ( b ) ) ;',\n",
       "   'for ( int ans ; i < len ; ++ i ) r [ i ] = g [ len - 1 - i ] ;',\n",
       "   \"[ len ] = ' \\\\0 ' ;\",\n",
       "   'if ( ( = strstr ( r , a ) ) ) {'],\n",
       "  'mod_code_anonymized': ['gets ( b ) ) ;',\n",
       "   'for ( int ans ; i < len ; ++ i ) r [ i ] = g [ len - _<number>_ - i ] ;',\n",
       "   '[ len ] = _<char>_ ;',\n",
       "   'if ( ( = strstr ( r , a ) ) ) {'],\n",
       "  'mod_code_anonymize_dict': [{}, {'number': ['1']}, {'char': [\"'\\\\0'\"]}, {}],\n",
       "  'err_line': 8,\n",
       "  'err_msg': 'expected ‘;’ before ‘)’ token',\n",
       "  'action_name_list': {'8': ['duplicate)'],\n",
       "   '14': ['delete var (not decl)'],\n",
       "   '11': ['delete var (not decl)'],\n",
       "   '10': ['replace var (in decl)']}},\n",
       " {'mod_line': [10, 11, 14],\n",
       "  'mod_code': ['for ( int ans ; i < len ; ++ i ) r [ i ] = g [ len - 1 - i ] ;',\n",
       "   \"[ len ] = ' \\\\0 ' ;\",\n",
       "   'if ( ( = strstr ( r , a ) ) ) {'],\n",
       "  'mod_code_anonymized': ['for ( int ans ; i < len ; ++ i ) r [ i ] = g [ len - _<number>_ - i ] ;',\n",
       "   '[ len ] = _<char>_ ;',\n",
       "   'if ( ( = strstr ( r , a ) ) ) {'],\n",
       "  'mod_code_anonymize_dict': [{'number': ['1']}, {'char': [\"'\\\\0'\"]}, {}],\n",
       "  'err_line': 10,\n",
       "  'err_msg': '‘i’ was not declared in this scope',\n",
       "  'action_name_list': {'14': ['delete var (not decl)'],\n",
       "   '11': ['delete var (not decl)'],\n",
       "   '10': ['replace var (in decl)']}},\n",
       " {'mod_line': [11, 14],\n",
       "  'mod_code': [\"[ len ] = ' \\\\0 ' ;\", 'if ( ( = strstr ( r , a ) ) ) {'],\n",
       "  'mod_code_anonymized': ['[ len ] = _<char>_ ;',\n",
       "   'if ( ( = strstr ( r , a ) ) ) {'],\n",
       "  'mod_code_anonymize_dict': [{'char': [\"'\\\\0'\"]}, {}],\n",
       "  'err_line': 11,\n",
       "  'err_msg': 'expected ‘{’ before ‘=’ token',\n",
       "  'action_name_list': {'14': ['delete var (not decl)'],\n",
       "   '11': ['delete var (not decl)']}},\n",
       " {'mod_line': [14],\n",
       "  'mod_code': ['if ( ( = strstr ( r , a ) ) ) {'],\n",
       "  'mod_code_anonymized': ['if ( ( = strstr ( r , a ) ) ) {'],\n",
       "  'mod_code_anonymize_dict': [{}],\n",
       "  'err_line': 14,\n",
       "  'err_msg': 'expected primary-expression before ‘=’ token',\n",
       "  'action_name_list': {'14': ['delete var (not decl)']}},\n",
       " {'mod_line': [3, 10, 13, 19],\n",
       "  'mod_code': ['char g [ 100005 ] , a [ 100005 ] , r , r [ 100005 ] , * p1 , * p2 ;',\n",
       "   'for ( int i = 0 ; i len ; ++ i ) r [ i ] = g [ len - 1 - i ] ;',\n",
       "   'if ( p2 = strstr ( p1 + strlen ( a ) , b ) ) ans += 1 }',\n",
       "   'if ( ans == 3 ) puts ( \" both \" )'],\n",
       "  'mod_code_anonymized': ['char g [ _<number>_ ] , a [ _<number>_ ] , r , r [ _<number>_ ] , * p1 , * p2 ;',\n",
       "   'for ( int i = _<number>_ ; i len ; ++ i ) r [ i ] = g [ len - _<number>_ - i ] ;',\n",
       "   'if ( p2 = strstr ( p1 + strlen ( a ) , b ) ) ans += _<number>_ }',\n",
       "   'if ( ans == _<number>_ ) puts ( _<string>_ )'],\n",
       "  'mod_code_anonymize_dict': [{'number': ['100005', '100005', '100005']},\n",
       "   {'number': ['0', '1']},\n",
       "   {'number': ['1']},\n",
       "   {'number': ['3'], 'string': ['\" both \"']}],\n",
       "  'err_line': 3,\n",
       "  'err_msg': 'conflicting declaration ‘char r [100005]’',\n",
       "  'action_name_list': {'3': ['replace var (in decl)'],\n",
       "   '19': ['delete;'],\n",
       "   '13': ['delete;'],\n",
       "   '10': ['delete<']}},\n",
       " {'mod_line': [10, 13, 19],\n",
       "  'mod_code': ['for ( int i = 0 ; i len ; ++ i ) r [ i ] = g [ len - 1 - i ] ;',\n",
       "   'if ( p2 = strstr ( p1 + strlen ( a ) , b ) ) ans += 1 }',\n",
       "   'if ( ans == 3 ) puts ( \" both \" )'],\n",
       "  'mod_code_anonymized': ['for ( int i = _<number>_ ; i len ; ++ i ) r [ i ] = g [ len - _<number>_ - i ] ;',\n",
       "   'if ( p2 = strstr ( p1 + strlen ( a ) , b ) ) ans += _<number>_ }',\n",
       "   'if ( ans == _<number>_ ) puts ( _<string>_ )'],\n",
       "  'mod_code_anonymize_dict': [{'number': ['0', '1']},\n",
       "   {'number': ['1']},\n",
       "   {'number': ['3'], 'string': ['\" both \"']}],\n",
       "  'err_line': 10,\n",
       "  'err_msg': 'expected ‘;’ before ‘len’',\n",
       "  'action_name_list': {'19': ['delete;'],\n",
       "   '13': ['delete;'],\n",
       "   '10': ['delete<']}},\n",
       " {'mod_line': [13, 19],\n",
       "  'mod_code': ['if ( p2 = strstr ( p1 + strlen ( a ) , b ) ) ans += 1 }',\n",
       "   'if ( ans == 3 ) puts ( \" both \" )'],\n",
       "  'mod_code_anonymized': ['if ( p2 = strstr ( p1 + strlen ( a ) , b ) ) ans += _<number>_ }',\n",
       "   'if ( ans == _<number>_ ) puts ( _<string>_ )'],\n",
       "  'mod_code_anonymize_dict': [{'number': ['1']},\n",
       "   {'number': ['3'], 'string': ['\" both \"']}],\n",
       "  'err_line': 13,\n",
       "  'err_msg': 'expected ‘;’ before ‘}’ token',\n",
       "  'action_name_list': {'19': ['delete;'], '13': ['delete;']}},\n",
       " {'mod_line': [19],\n",
       "  'mod_code': ['if ( ans == 3 ) puts ( \" both \" )'],\n",
       "  'mod_code_anonymized': ['if ( ans == _<number>_ ) puts ( _<string>_ )'],\n",
       "  'mod_code_anonymize_dict': [{'number': ['3'], 'string': ['\" both \"']}],\n",
       "  'err_line': 20,\n",
       "  'err_msg': 'expected ‘;’ before ‘return’',\n",
       "  'action_name_list': {'19': ['delete;']}}]"
      ]
     },
     "execution_count": 43,
     "metadata": {},
     "output_type": "execute_result"
    }
   ],
   "source": [
    "data['errors']"
   ]
  },
  {
   "cell_type": "code",
   "execution_count": 24,
   "metadata": {},
   "outputs": [
    {
     "name": "stdout",
     "output_type": "stream",
     "text": [
      "{'4': ['insert var (in decl)', 'insert var (in decl)'], '10': ['replace var (in decl)', 'replace type'], '14': ['delete{'], '13': ['delete var (not decl)']}\n",
      "['int len , i , len , ans = 0 ;', 'for ( double p1 ; i < len ; ++ i ) r [ i ] = g [ len - 1 - i ] ;', 'if ( p2 = strstr ( p1 + strlen ( a ) , ) ) ans += 1 ; }', 'if ( ( p1 = strstr ( r , a ) ) )']\n"
     ]
    }
   ],
   "source": [
    "print(data['errors'][0]['action_name_list'])\n",
    "print(data['errors'][0]['mod_code'])"
   ]
  },
  {
   "cell_type": "code",
   "execution_count": 46,
   "metadata": {},
   "outputs": [],
   "source": [
    "def merge_lines(data, err_idx=0):\n",
    "    code = '' \n",
    "    mod_code = ''\n",
    "    err_lines = sorted([int(idx) for idx in data['errors'][err_idx]['action_name_list'].keys()])\n",
    "    err_lines = [str(idx) for idx in err_lines]\n",
    "    err_code = {str(idx): code for idx, code in zip(err_lines, data['errors'][err_idx]['mod_code'])}\n",
    "    for idx, line in enumerate(data['lines']):\n",
    "        code += '\\t'*line['indent'] + line['code'] + '\\n'\n",
    "        if str(idx) in err_lines:\n",
    "            mod_code += '\\t'*line['indent'] + err_code[str(idx)] + '\\n'\n",
    "        else:\n",
    "            mod_code += '\\t'*line['indent'] + line['code'] + '\\n'\n",
    "\n",
    "    return code, mod_code,f\"line {data['errors'][err_idx]['err_line']}: {data['errors'][err_idx]['err_msg']}\""
   ]
  },
  {
   "cell_type": "code",
   "execution_count": 37,
   "metadata": {},
   "outputs": [
    {
     "name": "stdout",
     "output_type": "stream",
     "text": [
      "{'4': 'int len , i , len , ans = 0 ;', '10': 'for ( double p1 ; i < len ; ++ i ) r [ i ] = g [ len - 1 - i ] ;', '13': 'if ( p2 = strstr ( p1 + strlen ( a ) , ) ) ans += 1 ; }', '14': 'if ( ( p1 = strstr ( r , a ) ) )'}\n"
     ]
    }
   ],
   "source": [
    "err_lines = sorted([int(idx) for idx in data['errors'][0]['action_name_list'].keys()])\n",
    "err_code = {str(idx): code for idx, code in zip(err_lines, data['errors'][0]['mod_code'])}\n",
    "print(err_code)"
   ]
  },
  {
   "cell_type": "code",
   "execution_count": 47,
   "metadata": {},
   "outputs": [],
   "source": [
    "a,b,c = merge_lines(data)"
   ]
  },
  {
   "cell_type": "code",
   "execution_count": 48,
   "metadata": {},
   "outputs": [
    {
     "name": "stdout",
     "output_type": "stream",
     "text": [
      "#include <bits/stdc++.h>\n",
      "#include <string>\n",
      "using namespace std;\n",
      "char g [ 100005 ] , a [ 100005 ] , b [ 100005 ] , r [ 100005 ] , * p1 , * p2 ;\n",
      "int len , ans = 0 ;\n",
      "int main ( ) {\n",
      "\tgets ( g ) ;\n",
      "\tgets ( a ) ;\n",
      "\tgets ( b ) ;\n",
      "\tlen = strlen ( g ) ;\n",
      "\tfor ( int i = 0 ; i < len ; ++ i ) r [ i ] = g [ len - 1 - i ] ;\n",
      "\tr [ len ] = ' \\0 ' ;\n",
      "\tif ( ( p1 = strstr ( g , a ) ) ) {\n",
      "\t\tif ( p2 = strstr ( p1 + strlen ( a ) , b ) ) ans += 1 ; }\n",
      "\tif ( ( p1 = strstr ( r , a ) ) ) {\n",
      "\t\tif ( p2 = strstr ( p1 + strlen ( a ) , b ) ) ans += 2 ; }\n",
      "\tif ( ans == 0 ) puts ( \" fantasy \" ) ;\n",
      "\tif ( ans == 1 ) puts ( \" forward \" ) ;\n",
      "\tif ( ans == 2 ) puts ( \" backward \" ) ;\n",
      "\tif ( ans == 3 ) puts ( \" both \" ) ;\n",
      "\treturn 0 ; }\n",
      "\n"
     ]
    }
   ],
   "source": [
    "print(a)"
   ]
  },
  {
   "cell_type": "code",
   "execution_count": 49,
   "metadata": {},
   "outputs": [
    {
     "name": "stdout",
     "output_type": "stream",
     "text": [
      "#include <bits/stdc++.h>\n",
      "#include <string>\n",
      "using namespace std;\n",
      "char g [ 100005 ] , a [ 100005 ] , b [ 100005 ] , r [ 100005 ] , * p1 , * p2 ;\n",
      "int len , i , len , ans = 0 ;\n",
      "int main ( ) {\n",
      "\tgets ( g ) ;\n",
      "\tgets ( a ) ;\n",
      "\tgets ( b ) ;\n",
      "\tlen = strlen ( g ) ;\n",
      "\tfor ( double p1 ; i < len ; ++ i ) r [ i ] = g [ len - 1 - i ] ;\n",
      "\tr [ len ] = ' \\0 ' ;\n",
      "\tif ( ( p1 = strstr ( g , a ) ) ) {\n",
      "\t\tif ( p2 = strstr ( p1 + strlen ( a ) , ) ) ans += 1 ; }\n",
      "\tif ( ( p1 = strstr ( r , a ) ) )\n",
      "\t\tif ( p2 = strstr ( p1 + strlen ( a ) , b ) ) ans += 2 ; }\n",
      "\tif ( ans == 0 ) puts ( \" fantasy \" ) ;\n",
      "\tif ( ans == 1 ) puts ( \" forward \" ) ;\n",
      "\tif ( ans == 2 ) puts ( \" backward \" ) ;\n",
      "\tif ( ans == 3 ) puts ( \" both \" ) ;\n",
      "\treturn 0 ; }\n",
      "\n"
     ]
    }
   ],
   "source": [
    "print(b)"
   ]
  },
  {
   "cell_type": "code",
   "execution_count": 50,
   "metadata": {},
   "outputs": [
    {
     "name": "stdout",
     "output_type": "stream",
     "text": [
      "line4: redefinition of ‘int len’\n"
     ]
    }
   ],
   "source": [
    "print(c)"
   ]
  },
  {
   "cell_type": "code",
   "execution_count": 29,
   "metadata": {},
   "outputs": [
    {
     "data": {
      "text/plain": [
       "dict_keys(['mod_line', 'mod_code', 'mod_code_anonymized', 'mod_code_anonymize_dict', 'err_line', 'err_msg', 'action_name_list'])"
      ]
     },
     "execution_count": 29,
     "metadata": {},
     "output_type": "execute_result"
    }
   ],
   "source": [
    "data['errors'][0].keys()"
   ]
  },
  {
   "cell_type": "code",
   "execution_count": 36,
   "metadata": {},
   "outputs": [
    {
     "name": "stdout",
     "output_type": "stream",
     "text": [
      "4\n",
      "redefinition of ‘int len’\n"
     ]
    }
   ],
   "source": [
    "print(data['errors'][0]['err_line'])\n",
    "print(data['errors'][0]['err_msg'])"
   ]
  },
  {
   "cell_type": "code",
   "execution_count": 37,
   "metadata": {},
   "outputs": [
    {
     "name": "stdout",
     "output_type": "stream",
     "text": [
      "[4, 10, 13, 14]\n"
     ]
    }
   ],
   "source": [
    "print(data['errors'][0]['mod_line'])\n",
    "print(data[])"
   ]
  },
  {
   "cell_type": "code",
   "execution_count": 31,
   "metadata": {},
   "outputs": [
    {
     "data": {
      "text/plain": [
       "['int len , i , len , ans = 0 ;',\n",
       " 'for ( double p1 ; i < len ; ++ i ) r [ i ] = g [ len - 1 - i ] ;',\n",
       " 'if ( p2 = strstr ( p1 + strlen ( a ) , ) ) ans += 1 ; }',\n",
       " 'if ( ( p1 = strstr ( r , a ) ) )']"
      ]
     },
     "execution_count": 31,
     "metadata": {},
     "output_type": "execute_result"
    }
   ],
   "source": [
    "data['errors'][0]['mod_code']"
   ]
  },
  {
   "cell_type": "code",
   "execution_count": 27,
   "metadata": {},
   "outputs": [
    {
     "name": "stdout",
     "output_type": "stream",
     "text": [
      "0\n",
      "0\n",
      "0\n",
      "0\n",
      "0\n",
      "0\n",
      "1\n",
      "1\n",
      "1\n",
      "1\n",
      "1\n",
      "1\n",
      "1\n",
      "2\n",
      "1\n",
      "2\n",
      "1\n",
      "1\n",
      "1\n",
      "1\n",
      "1\n",
      "#include <bits/stdc++.h>\n",
      "#include <string>\n",
      "using namespace std;\n",
      "char g [ 100005 ] , a [ 100005 ] , b [ 100005 ] , r [ 100005 ] , * p1 , * p2 ;\n",
      "int len , ans = 0 ;\n",
      "int main ( ) {\n",
      "\tgets ( g ) ;\n",
      "\tgets ( a ) ;\n",
      "\tgets ( b ) ;\n",
      "\tlen = strlen ( g ) ;\n",
      "\tfor ( int i = 0 ; i < len ; ++ i ) r [ i ] = g [ len - 1 - i ] ;\n",
      "\tr [ len ] = ' \\0 ' ;\n",
      "\tif ( ( p1 = strstr ( g , a ) ) ) {\n",
      "\t\tif ( p2 = strstr ( p1 + strlen ( a ) , b ) ) ans += 1 ; }\n",
      "\tif ( ( p1 = strstr ( r , a ) ) ) {\n",
      "\t\tif ( p2 = strstr ( p1 + strlen ( a ) , b ) ) ans += 2 ; }\n",
      "\tif ( ans == 0 ) puts ( \" fantasy \" ) ;\n",
      "\tif ( ans == 1 ) puts ( \" forward \" ) ;\n",
      "\tif ( ans == 2 ) puts ( \" backward \" ) ;\n",
      "\tif ( ans == 3 ) puts ( \" both \" ) ;\n",
      "\treturn 0 ; }\n",
      "\n"
     ]
    }
   ],
   "source": []
  },
  {
   "cell_type": "code",
   "execution_count": 11,
   "metadata": {},
   "outputs": [
    {
     "data": {
      "text/plain": [
       "{'mod_line': [4, 10, 13, 14],\n",
       " 'mod_code': ['int len , i , len , ans = 0 ;',\n",
       "  'for ( double p1 ; i < len ; ++ i ) r [ i ] = g [ len - 1 - i ] ;',\n",
       "  'if ( p2 = strstr ( p1 + strlen ( a ) , ) ) ans += 1 ; }',\n",
       "  'if ( ( p1 = strstr ( r , a ) ) )'],\n",
       " 'mod_code_anonymized': ['int len , i , len , ans = _<number>_ ;',\n",
       "  'for ( double p1 ; i < len ; ++ i ) r [ i ] = g [ len - _<number>_ - i ] ;',\n",
       "  'if ( p2 = strstr ( p1 + strlen ( a ) , ) ) ans += _<number>_ ; }',\n",
       "  'if ( ( p1 = strstr ( r , a ) ) )'],\n",
       " 'mod_code_anonymize_dict': [{'number': ['0']},\n",
       "  {'number': ['1']},\n",
       "  {'number': ['1']},\n",
       "  {}],\n",
       " 'err_line': 4,\n",
       " 'err_msg': 'redefinition of ‘int len’',\n",
       " 'action_name_list': {'4': ['insert var (in decl)', 'insert var (in decl)'],\n",
       "  '10': ['replace var (in decl)', 'replace type'],\n",
       "  '14': ['delete{'],\n",
       "  '13': ['delete var (not decl)']}}"
      ]
     },
     "execution_count": 11,
     "metadata": {},
     "output_type": "execute_result"
    }
   ],
   "source": [
    "data['errors'][0]"
   ]
  },
  {
   "cell_type": "code",
   "execution_count": 10,
   "metadata": {},
   "outputs": [
    {
     "data": {
      "text/plain": [
       "{'mod_line': [10, 13, 14],\n",
       " 'mod_code': ['for ( double p1 ; i < len ; ++ i ) r [ i ] = g [ len - 1 - i ] ;',\n",
       "  'if ( p2 = strstr ( p1 + strlen ( a ) , ) ) ans += 1 ; }',\n",
       "  'if ( ( p1 = strstr ( r , a ) ) )'],\n",
       " 'mod_code_anonymized': ['for ( double p1 ; i < len ; ++ i ) r [ i ] = g [ len - _<number>_ - i ] ;',\n",
       "  'if ( p2 = strstr ( p1 + strlen ( a ) , ) ) ans += _<number>_ ; }',\n",
       "  'if ( ( p1 = strstr ( r , a ) ) )'],\n",
       " 'mod_code_anonymize_dict': [{'number': ['1']}, {'number': ['1']}, {}],\n",
       " 'err_line': 10,\n",
       " 'err_msg': '‘i’ was not declared in this scope',\n",
       " 'action_name_list': {'10': ['replace var (in decl)', 'replace type'],\n",
       "  '14': ['delete{'],\n",
       "  '13': ['delete var (not decl)']}}"
      ]
     },
     "execution_count": 10,
     "metadata": {},
     "output_type": "execute_result"
    }
   ],
   "source": [
    "data['errors'][1]"
   ]
  },
  {
   "cell_type": "code",
   "execution_count": null,
   "metadata": {},
   "outputs": [],
   "source": []
  }
 ],
 "metadata": {
  "kernelspec": {
   "display_name": "dmcc",
   "language": "python",
   "name": "python3"
  },
  "language_info": {
   "codemirror_mode": {
    "name": "ipython",
    "version": 3
   },
   "file_extension": ".py",
   "mimetype": "text/x-python",
   "name": "python",
   "nbconvert_exporter": "python",
   "pygments_lexer": "ipython3",
   "version": "3.6.8"
  },
  "orig_nbformat": 4
 },
 "nbformat": 4,
 "nbformat_minor": 2
}
